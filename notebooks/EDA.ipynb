{
 "cells": [
  {
   "cell_type": "markdown",
   "metadata": {},
   "source": [
    "# EDA Notebook for SalesPrediction AI\n",
    "\n",
    "This notebook performs Exploratory Data Analysis (EDA) on sales data to understand the dataset and prepare for predictive modeling."
   ]
  },
  {
   "cell_type": "code",
   "metadata": {},
   "source": [
    "# Import necessary libraries\n",
    "import pandas as pd\n",
    "import numpy as np\n",
    "import matplotlib.pyplot as plt\n",
    "import seaborn as sns\n",
    "\n",
    "# Load the sales data\n",
    "data = pd.read_csv('sales_data.csv')\n",
    "data.head()"
   ]
  },
  {
   "cell_type": "markdown",
   "metadata": {},
   "source": [
    "## Data Exploration\n",
    "\n",
    "Let's explore the dataset to understand its structure, feature distribution, and relationships."
   ]
  },
  {
   "cell_type": "code",
   "metadata": {},
   "source": [
    "# Summary statistics\n",
    "data.describe()"
   ]
  },
  {
   "cell_type": "code",
   "metadata": {},
   "source": [
    "# Data information\n",
    "data.info()"
   ]
  },
  {
   "cell_type": "markdown",
   "metadata": {},
   "source": [
    "## Data Visualization\n",
    "\n",
    "Visualize data to gain insights into feature distributions, correlations, and patterns."
   ]
  },
  {
   "cell_type": "code",
   "metadata": {},
   "source": [
    "# Histogram of Sales\n",
    "plt.figure(figsize=(10, 6))\n",
    "sns.histplot(data['Sales'], bins=20, kde=True)\n",
    "plt.title('Distribution of Sales')\n",
    "plt.xlabel('Sales')\n",
    "plt.ylabel('Frequency')\n",
    "plt.show()"
   ]
  },
  {
   "cell_type": "code",
   "metadata": {},
   "source": [
    "# Pairplot of numeric features\n",
    "sns.pairplot(data, vars=['Sales', 'Promotion', 'Holiday'], hue='Weather', diag_kind='hist')\n",
    "plt.suptitle('Pairplot of Sales, Promotion, Holiday by Weather', y=1.02)\n",
    "plt.show()"
   ]
  },
  {
   "cell_type": "markdown",
   "metadata": {},
   "source": [
    "## Correlation Analysis\n",
    "\n",
    "Explore correlations between features and target variable (Sales)."
   ]
  },
  {
   "cell_type": "code",
   "metadata": {},
   "source": [
    "# Correlation heatmap\n",
    "corr_matrix = data.corr()\n",
    "plt.figure(figsize=(8, 6))\n",
    "sns.heatmap(corr_matrix, annot=True, cmap='coolwarm', vmin=-1, vmax=1)\n",
    "plt.title('Correlation Heatmap')\n",
    "plt.show()"
   ]
  },
  {
   "cell_type": "markdown",
   "metadata": {},
   "source": [
    "## Conclusion\n",
    "\n",
    "This EDA notebook provides initial insights into the sales data. Further analysis and preprocessing steps are necessary before training predictive models. Next steps may include handling missing values, encoding categorical variables, and scaling features."
   ]
  }
 ],
 "metadata": {
  "kernelspec": {
   "display_name": "Python 3",
   "language": "python",
   "name": "python3"
  },
  "language_info": {
   "codemirror_mode": {
    "name": "ipython",
    "version": 3
   },
   "file_extension": ".py",
   "mimetype": "text/x-python",
   "name": "python",
   "nbconvert_exporter": "python",
   "pygments_lexer": "ipython3",
   "version": "3.8.5"
  }
 },
 "nbformat": 4,
 "nbformat_minor": 5
}

